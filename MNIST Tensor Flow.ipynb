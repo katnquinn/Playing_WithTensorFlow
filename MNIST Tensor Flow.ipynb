{
 "cells": [
  {
   "cell_type": "code",
   "execution_count": 1,
   "metadata": {
    "collapsed": true
   },
   "outputs": [],
   "source": [
    "%matplotlib inline\n",
    "import numpy as np\n",
    "import matplotlib.pyplot as plt\n",
    "import scipy.linalg as splin\n",
    "from matplotlib.patches import FancyArrowPatch\n",
    "from mpl_toolkits.mplot3d import proj3d\n",
    "from matplotlib.colors import LinearSegmentedColormap\n",
    "import tensorflow as tf\n",
    "import _pickle as pickle\n",
    "from sklearn.manifold import TSNE\n",
    "import scipy.linalg as splin"
   ]
  },
  {
   "cell_type": "code",
   "execution_count": 2,
   "metadata": {},
   "outputs": [
    {
     "name": "stdout",
     "output_type": "stream",
     "text": [
      "Extracting MNIST_data/train-images-idx3-ubyte.gz\n",
      "Extracting MNIST_data/train-labels-idx1-ubyte.gz\n",
      "Extracting MNIST_data/t10k-images-idx3-ubyte.gz\n",
      "Extracting MNIST_data/t10k-labels-idx1-ubyte.gz\n"
     ]
    }
   ],
   "source": [
    "from tensorflow.examples.tutorials.mnist import input_data\n",
    "mnist = input_data.read_data_sets(\"MNIST_data/\",one_hot=True)"
   ]
  },
  {
   "cell_type": "code",
   "execution_count": 3,
   "metadata": {
    "collapsed": true
   },
   "outputs": [],
   "source": [
    "def plotProjections(projections, clist, gridsize=2):\n",
    "    xsize = 8\n",
    "    ysize = 8\n",
    "    figs, axs = plt.subplots(nrows = gridsize, ncols = gridsize, figsize=(4*xsize,4*ysize))\n",
    "    for row in range(gridsize):\n",
    "        for col in range(gridsize):\n",
    "            if col >= row:\n",
    "                if col == row:\n",
    "                    sortIndex = row+2\n",
    "                else:\n",
    "                    sortIndex = row+1\n",
    "                py = projections[:,row]\n",
    "                px = projections[:,col+1]\n",
    "                sorting = projections[:,sortIndex].argsort()\n",
    "                \n",
    "                CLIST = np.array(clist)[sorting]\n",
    "                PX = px[sorting]\n",
    "                PY = py[sorting]\n",
    "                \n",
    "                rangeX = PX.max() - PX.min()\n",
    "                centerX = (PX.max() + PX.min())/2.0\n",
    "                rangeY = PY.max() - PY.min()\n",
    "                centerY = (PY.max() + PY.min())/2.0\n",
    "                axesDist = 0.6*max(rangeX,rangeY)\n",
    "                \n",
    "                sc1 = axs[row,col].scatter(PX,PY,alpha=0.7,c=CLIST)\n",
    "                \n",
    "                subTitle = str(row+1) + ' vs. ' + str(col+2)\n",
    "                \n",
    "                axs[row,col].set_title(subTitle)\n",
    "                axs[row,col].set_xlim([centerX - axesDist, centerX + axesDist])\n",
    "                axs[row,col].set_ylim([centerY - axesDist, centerY + axesDist])\n",
    "                axs[row,col].ticklabel_format(style='sci', scilimits=(-2,2),axis='both')\n",
    "            else:\n",
    "                axs[row,col].axis('off')\n",
    "    plt.tight_layout()\n",
    "    plt.show()"
   ]
  },
  {
   "cell_type": "code",
   "execution_count": 4,
   "metadata": {
    "collapsed": true
   },
   "outputs": [],
   "source": [
    "class Arrow3D(FancyArrowPatch):\n",
    "    def __init__(self, xs, ys, zs, *args, **kwargs):\n",
    "        FancyArrowPatch.__init__(self, (0,0), (0,0), *args, **kwargs)\n",
    "        self._verts3d = xs, ys, zs\n",
    "\n",
    "    def draw(self, renderer):\n",
    "        xs3d, ys3d, zs3d = self._verts3d\n",
    "        xs, ys, zs = proj3d.proj_transform(xs3d, ys3d, zs3d, renderer.M)\n",
    "        self.set_positions((xs[0],ys[0]),(xs[1],ys[1]))\n",
    "        FancyArrowPatch.draw(self, renderer)\n",
    "        \n",
    "def saveThing(thing,file):\n",
    "    with open(file,'wb') as fil:\n",
    "        pick = pickle.Pickler(fil)\n",
    "        pick.dump(thing)\n",
    "        pick.clear_memo()\n",
    "        \n",
    "def openThing(file,py2 = False):\n",
    "    if py2:\n",
    "        with open(file,'rb') as fil:\n",
    "            u = pickle._Unpickler(fil)\n",
    "            u.encoding = 'latin1'\n",
    "            thing = u.load()\n",
    "    else:\n",
    "        with open(file,'rb') as fil:\n",
    "            thing = pickle.load(fil)\n",
    "    return thing\n"
   ]
  },
  {
   "cell_type": "markdown",
   "metadata": {},
   "source": [
    "MNIST plots"
   ]
  },
  {
   "cell_type": "code",
   "execution_count": 5,
   "metadata": {
    "collapsed": true
   },
   "outputs": [],
   "source": [
    "def weight_variable(shape):\n",
    "    initial = tf.truncated_normal(shape,stddev=0.1)\n",
    "    return tf.Variable(initial)\n",
    "\n",
    "def bias_variable(shape):\n",
    "    initial = tf.constant(0.1,shape=shape)\n",
    "    return tf.Variable(initial)\n",
    "\n",
    "def conv2d(x,W):\n",
    "    return tf.nn.conv2d(x,W,strides=[1,1,1,1],padding='SAME')\n",
    "\n",
    "def max_pool_2x2(x):\n",
    "    return tf.nn.max_pool(x,ksize=[1,2,2,1],strides=[1,2,2,1],padding='SAME')"
   ]
  },
  {
   "cell_type": "code",
   "execution_count": 6,
   "metadata": {
    "collapsed": true,
    "scrolled": false
   },
   "outputs": [],
   "source": [
    "x = tf.placeholder(tf.float32, shape=[None, 784])\n",
    "y_ = tf.placeholder(tf.float32, shape=[None, 10])\n",
    "\n",
    "W_conv1 = weight_variable([5,5,1,32])\n",
    "b_conv1 = bias_variable([32])\n",
    "\n",
    "x_image = tf.reshape(x,[-1,28,28,1])\n",
    "\n",
    "h_conv1 = tf.nn.relu(conv2d(x_image,W_conv1)+b_conv1)\n",
    "h_pool1 = max_pool_2x2(h_conv1)\n",
    "\n",
    "W_conv2 = weight_variable([5,5,32,64])\n",
    "b_conv2 = bias_variable([64])\n",
    "\n",
    "h_conv2 = tf.nn.relu(conv2d(h_pool1,W_conv2) + b_conv2)\n",
    "h_pool2 = max_pool_2x2(h_conv2)\n",
    "\n",
    "W_fc1 = weight_variable([7*7*64,1024])\n",
    "b_fc1 = bias_variable([1024])\n",
    "\n",
    "h_pool2_flat = tf.reshape(h_pool2,[-1,7*7*64])\n",
    "h_fc1 = tf.nn.relu(tf.matmul(h_pool2_flat,W_fc1) + b_fc1)\n",
    "\n",
    "W_fc2 = weight_variable([1024,10])\n",
    "b_fc2 = bias_variable([10])\n",
    "\n",
    "keep_prob = tf.placeholder(tf.float32)\n",
    "h_fc1_drop = tf.nn.dropout(h_fc1,keep_prob)\n",
    "\n",
    "y_conv = tf.matmul(h_fc1_drop,W_fc2) + b_fc2"
   ]
  },
  {
   "cell_type": "code",
   "execution_count": 7,
   "metadata": {
    "scrolled": true
   },
   "outputs": [
    {
     "name": "stdout",
     "output_type": "stream",
     "text": [
      "step 0, training accuracy 0.132333\n",
      "step 1, training accuracy 0.141\n",
      "step 2, training accuracy 0.175667\n",
      "step 3, training accuracy 0.176667\n",
      "step 4, training accuracy 0.156667\n",
      "step 5, training accuracy 0.17\n",
      "step 6, training accuracy 0.158667\n",
      "step 7, training accuracy 0.164\n",
      "step 8, training accuracy 0.159667\n",
      "step 9, training accuracy 0.190333\n",
      "step 10, training accuracy 0.225\n",
      "step 20, training accuracy 0.587667\n",
      "step 30, training accuracy 0.774333\n",
      "step 40, training accuracy 0.828333\n",
      "step 50, training accuracy 0.869333\n",
      "step 60, training accuracy 0.892333\n",
      "step 70, training accuracy 0.896333\n",
      "step 80, training accuracy 0.917333\n",
      "step 90, training accuracy 0.924\n",
      "step 100, training accuracy 0.931333\n",
      "step 110, training accuracy 0.933\n",
      "step 120, training accuracy 0.937\n",
      "step 130, training accuracy 0.941667\n",
      "step 140, training accuracy 0.951\n",
      "step 150, training accuracy 0.946333\n",
      "step 160, training accuracy 0.956667\n",
      "step 170, training accuracy 0.954333\n",
      "step 180, training accuracy 0.957333\n",
      "step 190, training accuracy 0.964667\n",
      "step 200, training accuracy 0.961667\n",
      "step 210, training accuracy 0.962\n",
      "step 220, training accuracy 0.962333\n",
      "step 230, training accuracy 0.962667\n",
      "step 240, training accuracy 0.966667\n",
      "step 250, training accuracy 0.966\n",
      "step 260, training accuracy 0.970667\n",
      "step 270, training accuracy 0.970333\n",
      "step 280, training accuracy 0.969\n",
      "step 290, training accuracy 0.974\n",
      "step 300, training accuracy 0.966333\n",
      "step 310, training accuracy 0.972333\n",
      "step 320, training accuracy 0.975667\n",
      "step 330, training accuracy 0.974667\n",
      "step 340, training accuracy 0.970667\n",
      "step 350, training accuracy 0.975\n",
      "step 360, training accuracy 0.975333\n",
      "step 370, training accuracy 0.977\n",
      "step 380, training accuracy 0.977\n",
      "step 390, training accuracy 0.983667\n",
      "step 400, training accuracy 0.976\n",
      "step 410, training accuracy 0.977667\n",
      "step 420, training accuracy 0.978\n",
      "step 430, training accuracy 0.981333\n",
      "step 440, training accuracy 0.981667\n",
      "step 450, training accuracy 0.983\n",
      "step 460, training accuracy 0.979\n",
      "step 470, training accuracy 0.981667\n",
      "step 480, training accuracy 0.979667\n",
      "step 490, training accuracy 0.984333\n",
      "step 500, training accuracy 0.981667\n",
      "step 510, training accuracy 0.981667\n",
      "step 520, training accuracy 0.984\n",
      "step 530, training accuracy 0.981333\n",
      "step 540, training accuracy 0.984\n",
      "step 550, training accuracy 0.982333\n",
      "step 560, training accuracy 0.983667\n",
      "step 570, training accuracy 0.987333\n",
      "step 580, training accuracy 0.989667\n",
      "step 590, training accuracy 0.983\n",
      "step 600, training accuracy 0.989333\n",
      "step 610, training accuracy 0.986\n",
      "step 620, training accuracy 0.991333\n",
      "step 630, training accuracy 0.983\n",
      "step 640, training accuracy 0.982\n",
      "step 650, training accuracy 0.989333\n",
      "step 660, training accuracy 0.986333\n",
      "step 670, training accuracy 0.990667\n",
      "step 680, training accuracy 0.988333\n",
      "step 690, training accuracy 0.989\n",
      "step 700, training accuracy 0.989333\n",
      "step 710, training accuracy 0.986667\n",
      "step 720, training accuracy 0.987333\n",
      "step 730, training accuracy 0.991\n",
      "step 740, training accuracy 0.987667\n",
      "step 750, training accuracy 0.987\n",
      "step 760, training accuracy 0.988\n",
      "step 770, training accuracy 0.989667\n",
      "step 780, training accuracy 0.993\n",
      "step 790, training accuracy 0.993667\n",
      "step 800, training accuracy 0.991333\n",
      "step 810, training accuracy 0.994667\n",
      "step 820, training accuracy 0.988667\n",
      "step 830, training accuracy 0.986\n",
      "step 840, training accuracy 0.991333\n",
      "step 850, training accuracy 0.991667\n",
      "step 860, training accuracy 0.988333\n",
      "step 870, training accuracy 0.991\n",
      "step 880, training accuracy 0.991333\n",
      "step 890, training accuracy 0.990333\n",
      "step 900, training accuracy 0.991333\n",
      "step 910, training accuracy 0.991667\n",
      "step 920, training accuracy 0.992\n",
      "step 930, training accuracy 0.993333\n",
      "step 940, training accuracy 0.992\n",
      "step 950, training accuracy 0.991333\n",
      "step 960, training accuracy 0.992667\n",
      "step 970, training accuracy 0.992\n",
      "step 980, training accuracy 0.992\n",
      "step 990, training accuracy 0.991\n",
      "step 1000, training accuracy 0.994667\n",
      "step 1010, training accuracy 0.994333\n",
      "step 1020, training accuracy 0.991667\n",
      "step 1030, training accuracy 0.991333\n",
      "step 1040, training accuracy 0.992333\n",
      "step 1050, training accuracy 0.993333\n",
      "step 1060, training accuracy 0.995333\n",
      "step 1070, training accuracy 0.992\n",
      "step 1080, training accuracy 0.995333\n",
      "step 1090, training accuracy 0.993\n",
      "step 1100, training accuracy 0.994667\n",
      "step 1110, training accuracy 0.994333\n",
      "step 1120, training accuracy 0.993333\n",
      "step 1130, training accuracy 0.996\n",
      "step 1140, training accuracy 0.996\n",
      "step 1150, training accuracy 0.993333\n",
      "step 1160, training accuracy 0.997\n",
      "step 1170, training accuracy 0.992\n",
      "step 1180, training accuracy 0.992667\n",
      "step 1190, training accuracy 0.992333\n",
      "step 1200, training accuracy 0.997\n",
      "step 1210, training accuracy 0.993667\n",
      "step 1220, training accuracy 0.993667\n",
      "step 1230, training accuracy 0.994\n",
      "step 1240, training accuracy 0.993333\n",
      "step 1250, training accuracy 0.993667\n",
      "step 1260, training accuracy 0.995\n",
      "step 1270, training accuracy 0.993667\n",
      "step 1280, training accuracy 0.994667\n",
      "step 1290, training accuracy 0.997\n",
      "step 1300, training accuracy 0.994333\n",
      "step 1310, training accuracy 0.997667\n",
      "step 1320, training accuracy 0.995\n",
      "step 1330, training accuracy 0.997333\n",
      "step 1340, training accuracy 0.997\n",
      "step 1350, training accuracy 0.996\n",
      "step 1360, training accuracy 0.994333\n",
      "step 1370, training accuracy 0.996667\n",
      "step 1380, training accuracy 0.996333\n",
      "step 1390, training accuracy 0.994667\n",
      "step 1400, training accuracy 0.997\n",
      "step 1410, training accuracy 0.994\n",
      "step 1420, training accuracy 0.997333\n",
      "step 1430, training accuracy 0.997\n",
      "step 1440, training accuracy 0.996333\n",
      "step 1450, training accuracy 0.997333\n",
      "step 1460, training accuracy 0.994\n",
      "step 1470, training accuracy 0.996667\n",
      "step 1480, training accuracy 0.996667\n",
      "step 1490, training accuracy 0.997667\n",
      "step 1500, training accuracy 0.995333\n",
      "step 1510, training accuracy 0.996333\n",
      "step 1520, training accuracy 0.998333\n",
      "step 1530, training accuracy 0.996333\n",
      "step 1540, training accuracy 0.996667\n",
      "step 1550, training accuracy 0.996667\n",
      "step 1560, training accuracy 0.996333\n",
      "step 1570, training accuracy 0.998\n",
      "step 1580, training accuracy 0.994667\n",
      "step 1590, training accuracy 0.998\n",
      "step 1600, training accuracy 0.998333\n",
      "step 1610, training accuracy 0.995667\n",
      "step 1620, training accuracy 0.997\n",
      "step 1630, training accuracy 0.998333\n",
      "step 1640, training accuracy 0.996333\n",
      "step 1650, training accuracy 0.999333\n",
      "step 1660, training accuracy 0.997\n",
      "step 1670, training accuracy 0.996667\n",
      "step 1680, training accuracy 0.997667\n",
      "step 1690, training accuracy 0.998\n",
      "step 1700, training accuracy 0.997\n",
      "step 1710, training accuracy 0.998333\n",
      "step 1720, training accuracy 0.998667\n",
      "step 1730, training accuracy 0.998\n",
      "step 1740, training accuracy 0.998333\n",
      "step 1750, training accuracy 0.998\n",
      "step 1760, training accuracy 0.998\n",
      "step 1770, training accuracy 0.997333\n",
      "step 1780, training accuracy 0.997333\n",
      "step 1790, training accuracy 0.999333\n",
      "step 1800, training accuracy 0.998\n",
      "step 1810, training accuracy 0.995333\n",
      "step 1820, training accuracy 0.996\n",
      "step 1830, training accuracy 0.998667\n",
      "step 1840, training accuracy 0.998333\n",
      "step 1850, training accuracy 0.999\n",
      "step 1860, training accuracy 0.999\n",
      "step 1870, training accuracy 0.999\n",
      "step 1880, training accuracy 0.998333\n",
      "step 1890, training accuracy 0.995333\n",
      "step 1900, training accuracy 0.997667\n",
      "step 1910, training accuracy 0.997667\n",
      "step 1920, training accuracy 0.996333\n",
      "step 1930, training accuracy 0.996333\n",
      "step 1940, training accuracy 0.999333\n",
      "step 1950, training accuracy 0.998333\n",
      "step 1960, training accuracy 0.998333\n",
      "step 1970, training accuracy 0.999667\n",
      "step 1980, training accuracy 0.999333\n",
      "step 1990, training accuracy 0.998333\n",
      "test accuracy 0.9907\n"
     ]
    }
   ],
   "source": [
    "cross_entropy = tf.reduce_mean(tf.nn.softmax_cross_entropy_with_logits(labels=y_, logits=y_conv))\n",
    "train_step = tf.train.AdamOptimizer(1e-4).minimize(cross_entropy)\n",
    "correct_prediction = tf.equal(tf.argmax(y_conv, 1), tf.argmax(y_, 1))\n",
    "accuracy = tf.reduce_mean(tf.cast(correct_prediction, tf.float32))\n",
    "\n",
    "accuraciesTraining = []\n",
    "accuraciesTest = []\n",
    "allProbs = []\n",
    "\n",
    "with tf.Session() as sess:\n",
    "    sess.run(tf.global_variables_initializer())\n",
    "    #train_accuracy = accuracy.eval(feed_dict={x: batch[0], y_: batch[1], keep_prob: 1.0})\n",
    "    #test_accuracy = accuracy.eval(feed_dict={x: mnist.test.images, y_: mnist.test.labels, keep_prob: 1.0})\n",
    "    #print('Initializing, training accuracy %g' % (train_accuracy))\n",
    "    #accuraciesTraining.append([-1, train_accuracy])\n",
    "    #accuraciesTest.append([-1, test_accuracy])\n",
    "    #probs_estimators = y_conv.eval(feed_dict={x: mnist.test.images, keep_prob:1.0},session=sess)\n",
    "    #allProbs.append(np.array([[np.exp(x)/sum([np.exp(y) for y in prob]) for x in prob] for prob in probs_estimators]))\n",
    "    for i in range(2000):\n",
    "        batch = mnist.train.next_batch(3000)\n",
    "        if (i % 10 == 0) or (i < 10):\n",
    "            train_accuracy = accuracy.eval(feed_dict={x: batch[0], y_: batch[1], keep_prob: 1.0})\n",
    "            test_accuracy = accuracy.eval(feed_dict={x: mnist.test.images, y_: mnist.test.labels, keep_prob: 1.0})\n",
    "            print('step %d, training accuracy %g' % (i, train_accuracy))\n",
    "            accuraciesTraining.append([i, train_accuracy])\n",
    "            accuraciesTest.append([i, test_accuracy])\n",
    "            if (i % 100 == 0) or (i < 100):\n",
    "                probs_estimators = y_conv.eval(feed_dict={x: mnist.test.images, keep_prob:1.0},session=sess)\n",
    "                allProbs.append(np.array([[np.exp(x)/sum([np.exp(y) for y in prob]) for x in prob] for prob in probs_estimators]))\n",
    "        train_step.run(feed_dict={x: batch[0], y_: batch[1], keep_prob: 0.5})\n",
    "\n",
    "    print('test accuracy %g' % accuracy.eval(feed_dict={x: mnist.test.images, y_: mnist.test.labels, keep_prob: 1.0}))\n",
    "    probs_estimators = y_conv.eval(feed_dict={x: mnist.test.images, keep_prob:1.0},session=sess)\n",
    "    allProbs.append(np.array([[np.exp(x)/sum([np.exp(y) for y in prob]) for x in prob] for prob in probs_estimators]))"
   ]
  },
  {
   "cell_type": "code",
   "execution_count": 12,
   "metadata": {
    "collapsed": true
   },
   "outputs": [],
   "source": [
    "saveThing(accuraciesTraining,'accuraciesTraining.pckl')\n",
    "saveThing(accuraciesTest,'accuraciesTest.pckl')"
   ]
  },
  {
   "cell_type": "code",
   "execution_count": 39,
   "metadata": {
    "collapsed": true
   },
   "outputs": [],
   "source": [
    "saveThing(allProbs,'allProbs.pckl')"
   ]
  },
  {
   "cell_type": "code",
   "execution_count": null,
   "metadata": {
    "collapsed": true
   },
   "outputs": [],
   "source": [
    "len(allProbs)"
   ]
  },
  {
   "cell_type": "code",
   "execution_count": 54,
   "metadata": {},
   "outputs": [
    {
     "data": {
      "image/png": "[encoded data removed]",
      "text/plain": [
       "<matplotlib.figure.Figure at 0x7f170ade3400>"
      ]
     },
     "metadata": {},
     "output_type": "display_data"
    }
   ],
   "source": [
    "plt.figure(figsize=(10,2))\n",
    "plt.plot([x+1 for x,y in accuraciesTraining],[1-y for x,y in accuraciesTraining],label='Training Set')\n",
    "plt.plot([x+2 for x,y in accuraciesTest],[1-y for x,y in accuraciesTest],label='Test Set')\n",
    "\n",
    "plt.plot([1,1],[0.0001,2],c='black')\n",
    "#plt.plot([10,10],[0.0001,2],c='black')\n",
    "plt.plot([20,20],[0.0001,2],c='black')\n",
    "#plt.plot([500,500],[0.0001,2],c='black')\n",
    "plt.plot([2000,2000],[0.0001,2],c='black')\n",
    "\n",
    "#plt.xticks(np.linspace(0,100,21))\n",
    "\n",
    "plt.legend(loc='lower left',fontsize=14)\n",
    "\n",
    "#plt.grid()\n",
    "\n",
    "#plt.yscale('log')\n",
    "plt.xscale('log')\n",
    "#plt.ylim([10**(-4),2])\n",
    "\n",
    "plt.xticks([1,10,100,1000],fontsize=14)\n",
    "plt.yticks([0,0.5,1],fontsize=14)\n",
    "\n",
    "plt.ylim([0,1])\n",
    "\n",
    "plt.grid()\n",
    "\n",
    "#plt.xlim([-10,2010])\n",
    "plt.xlabel('Epoch', fontsize=14)\n",
    "plt.ylabel('Percent Error',fontsize=14)\n",
    "\n",
    "plt.show()"
   ]
  },
  {
   "cell_type": "code",
   "execution_count": 51,
   "metadata": {
    "collapsed": true
   },
   "outputs": [],
   "source": [
    "counts = [[0,-1]]\n",
    "idx = 0\n",
    "for i in range(2001):\n",
    "    if (i % 10 == 0) or (i < 10):\n",
    "        if (i % 100 == 0) or (i < 100):\n",
    "            idx += 1\n",
    "            counts.append([idx,i])"
   ]
  },
  {
   "cell_type": "code",
   "execution_count": 52,
   "metadata": {},
   "outputs": [
    {
     "data": {
      "text/plain": [
       "40"
      ]
     },
     "execution_count": 52,
     "metadata": {},
     "output_type": "execute_result"
    }
   ],
   "source": [
    "len(counts)"
   ]
  },
  {
   "cell_type": "code",
   "execution_count": 53,
   "metadata": {},
   "outputs": [
    {
     "data": {
      "text/plain": [
       "[[0, -1],\n",
       " [1, 0],\n",
       " [2, 1],\n",
       " [3, 2],\n",
       " [4, 3],\n",
       " [5, 4],\n",
       " [6, 5],\n",
       " [7, 6],\n",
       " [8, 7],\n",
       " [9, 8],\n",
       " [10, 9],\n",
       " [11, 10],\n",
       " [12, 20],\n",
       " [13, 30],\n",
       " [14, 40],\n",
       " [15, 50],\n",
       " [16, 60],\n",
       " [17, 70],\n",
       " [18, 80],\n",
       " [19, 90],\n",
       " [20, 100],\n",
       " [21, 200],\n",
       " [22, 300],\n",
       " [23, 400],\n",
       " [24, 500],\n",
       " [25, 600],\n",
       " [26, 700],\n",
       " [27, 800],\n",
       " [28, 900],\n",
       " [29, 1000],\n",
       " [30, 1100],\n",
       " [31, 1200],\n",
       " [32, 1300],\n",
       " [33, 1400],\n",
       " [34, 1500],\n",
       " [35, 1600],\n",
       " [36, 1700],\n",
       " [37, 1800],\n",
       " [38, 1900],\n",
       " [39, 2000]]"
      ]
     },
     "execution_count": 53,
     "metadata": {},
     "output_type": "execute_result"
    }
   ],
   "source": [
    "counts"
   ]
  },
  {
   "cell_type": "code",
   "execution_count": null,
   "metadata": {
    "collapsed": true
   },
   "outputs": [],
   "source": []
  },
  {
   "cell_type": "markdown",
   "metadata": {},
   "source": [
    "Plotting Data"
   ]
  },
  {
   "cell_type": "code",
   "execution_count": null,
   "metadata": {
    "collapsed": true
   },
   "outputs": [],
   "source": [
    "probs = np.array([[np.exp(x)/sum([np.exp(y) for y in prob]) for x in prob] for prob in probs_estimators])"
   ]
  },
  {
   "cell_type": "code",
   "execution_count": null,
   "metadata": {
    "collapsed": true
   },
   "outputs": [],
   "source": [
    "def findProj(data,eigs=4):\n",
    "    data = np.array(data)\n",
    "    DDT = np.log(np.dot(data,data.T))\n",
    "    DDT_sums = np.array([sum(row)/len(data) for row in DDT])\n",
    "    DDT_sum_sums = sum(DDT_sums)/len(data)\n",
    "    DDT_PCA = np.array([[DDT[i][j] - DDT_sums[i] - DDT_sums[j] + DDT_sum_sums for i in range(len(data))] for j in range(len(data))])\n",
    "    \n",
    "    wR,vRt = splin.eigh(DDT_PCA,eigvals=(len(DDT)-1-eigs,len(DDT)-1))\n",
    "    wI,vIt = splin.eigh(DDT_PCA,eigvals=(0,eigs))\n",
    "    \n",
    "    W = list(wR)\n",
    "    W.extend(list(wI))\n",
    "    W = np.array(W)\n",
    "    sorting = abs(np.array(W)).argsort()[::-1]\n",
    "    \n",
    "    V = list(vRt.T)\n",
    "    V.extend(list(vIt.T))\n",
    "    V = np.array(V)\n",
    "    \n",
    "    W = W[sorting]\n",
    "    V = V[sorting]\n",
    "    \n",
    "    imCol = []\n",
    "    for i in range(len(W)):\n",
    "        if W[i] < 0:\n",
    "            imCol.append(i)\n",
    "            \n",
    "    proj = np.dot(V.T,np.diag(np.sqrt(np.abs(W))))\n",
    "    \n",
    "    return(proj,imCol)"
   ]
  },
  {
   "cell_type": "code",
   "execution_count": null,
   "metadata": {
    "collapsed": true
   },
   "outputs": [],
   "source": [
    "proj,imCol = findProj(np.sqrt(probs),eigs=4)"
   ]
  },
  {
   "cell_type": "code",
   "execution_count": null,
   "metadata": {
    "collapsed": true
   },
   "outputs": [],
   "source": [
    "saveThing(proj,'proj.pckl')\n",
    "saveThing(probs,'probs.pckl')"
   ]
  },
  {
   "cell_type": "code",
   "execution_count": null,
   "metadata": {
    "collapsed": true
   },
   "outputs": [],
   "source": [
    "colors = ['C'+str(i) for i in range(10)]\n",
    "clist = []\n",
    "labels = []\n",
    "for label in mnist.test.labels:\n",
    "    for e in range(10):\n",
    "        if label[e] == 1:\n",
    "            clist.append(colors[e])\n",
    "            labels.append(e)\n",
    "saveThing(labels,'labels.pckl')"
   ]
  },
  {
   "cell_type": "code",
   "execution_count": null,
   "metadata": {
    "collapsed": true
   },
   "outputs": [],
   "source": [
    "#3D plots\n",
    "px = proj[:,0]\n",
    "py = proj[:,1]\n",
    "pz = proj[:,2]\n",
    "\n",
    "mean_x = px.min()\n",
    "mean_y = py.min()\n",
    "mean_z = pz.min()\n",
    "\n",
    "Xdist = px.max() - px.min()\n",
    "Xcntr = (px.max() + px.min())/2.0\n",
    "Ydist = py.max() - py.min()\n",
    "Ycntr = (py.max() + py.min())/2.0\n",
    "Zdist = pz.max() - pz.min()\n",
    "Zcntr = (pz.max() + pz.min())/2.0\n",
    "\n",
    "dist = 0.5*max(Xdist,Ydist,Zdist)\n",
    "\n",
    "fig = plt.figure(figsize = (10,10))\n",
    "ax = fig.gca(projection='3d')\n",
    "#ax.view_init(30,-60)\n",
    "\n",
    "listTemp = [i for i in range(len(proj))]\n",
    "\n",
    "ax.scatter(px,py,pz,c=clist,edgecolor='black',linewidth=0.2)\n",
    "\n",
    "ax.set_xlim([Xcntr - dist, Xcntr + dist])\n",
    "ax.set_ylim([Ycntr - dist, Ycntr + dist])\n",
    "ax.set_zlim([Zcntr - dist, Zcntr + dist])\n",
    "\n",
    "ax.set_xticks([])\n",
    "ax.set_yticks([])\n",
    "ax.set_zticks([])\n",
    "\n",
    "arrowSize=2*dist/5\n",
    "\n",
    "vects = [[mean_x+arrowSize,mean_y,mean_z],[mean_x,mean_y+arrowSize,mean_z],[mean_x,mean_y,mean_z+arrowSize]]\n",
    "\n",
    "for v in vects:\n",
    "    a = Arrow3D([mean_x,v[0]],[mean_y,v[1]],\n",
    "                [mean_z,v[2]],mutation_scale=20,\n",
    "                lw=3,arrowstyle=\"-|>\",color=\"r\")\n",
    "    ax.add_artist(a)\n",
    "ax.set_axis_off()"
   ]
  },
  {
   "cell_type": "code",
   "execution_count": null,
   "metadata": {
    "collapsed": true
   },
   "outputs": [],
   "source": [
    "X = -2*np.log(np.dot(probs,probs.T))"
   ]
  },
  {
   "cell_type": "code",
   "execution_count": null,
   "metadata": {
    "collapsed": true
   },
   "outputs": [],
   "source": [
    "X_embedded=TSNE(n_components=3).fit_transform(X)"
   ]
  },
  {
   "cell_type": "code",
   "execution_count": null,
   "metadata": {
    "collapsed": true
   },
   "outputs": [],
   "source": [
    "sampleDigits = mnist.test.images[[3,2,1,30,19,15,21,0,61,16]]"
   ]
  },
  {
   "cell_type": "code",
   "execution_count": null,
   "metadata": {
    "collapsed": true
   },
   "outputs": [],
   "source": [
    "for image in sampleDigits:\n",
    "    plt.imshow([image[28*i:28*(i+1)] for i in range(28)],cmap='Greys')\n",
    "    plt.xticks([])\n",
    "    plt.yticks([])\n",
    "    plt.show()"
   ]
  },
  {
   "cell_type": "code",
   "execution_count": null,
   "metadata": {
    "collapsed": true
   },
   "outputs": [],
   "source": [
    "saveThing(sampleDigits,'sampleDigits.pckl')"
   ]
  },
  {
   "cell_type": "code",
   "execution_count": null,
   "metadata": {
    "collapsed": true
   },
   "outputs": [],
   "source": [
    "probs = openThing('probs.pckl')\n",
    "labels = openThing('labels.pckl')"
   ]
  },
  {
   "cell_type": "code",
   "execution_count": null,
   "metadata": {
    "collapsed": true
   },
   "outputs": [],
   "source": [
    "def klDiv(p1,p2):\n",
    "    return sum(p1*np.log(p1)-p1*np.log(p2) + p2*np.log(p2)-p2*np.log(p1))"
   ]
  },
  {
   "cell_type": "code",
   "execution_count": null,
   "metadata": {
    "collapsed": true
   },
   "outputs": [],
   "source": [
    "distances = [[-8*np.log(np.dot(np.sqrt(p1),np.sqrt(p2))) for p1 in probs] for p2 in probs]"
   ]
  },
  {
   "cell_type": "code",
   "execution_count": null,
   "metadata": {
    "collapsed": true
   },
   "outputs": [],
   "source": [
    "distances = abs(np.array(distances))"
   ]
  },
  {
   "cell_type": "code",
   "execution_count": null,
   "metadata": {
    "collapsed": true
   },
   "outputs": [],
   "source": [
    "X_embedded = TSNE(n_components=3).fit_transform(distances)"
   ]
  },
  {
   "cell_type": "code",
   "execution_count": null,
   "metadata": {
    "collapsed": true
   },
   "outputs": [],
   "source": [
    "klDistances = [[klDiv(p1,p2) for p1 in probs] for p2 in probs]"
   ]
  },
  {
   "cell_type": "code",
   "execution_count": null,
   "metadata": {
    "collapsed": true
   },
   "outputs": [],
   "source": [
    "X_kl = TSNE(n_components=3).fit_transform(klDistances)"
   ]
  },
  {
   "cell_type": "code",
   "execution_count": null,
   "metadata": {
    "collapsed": true
   },
   "outputs": [],
   "source": [
    "X_kl2D = TSNE(n_components=2).fit_transform(klDistances)"
   ]
  },
  {
   "cell_type": "code",
   "execution_count": null,
   "metadata": {
    "collapsed": true
   },
   "outputs": [],
   "source": [
    "X_euclid = TSNE(n_components=3,init='pca').fit_transform(probs)"
   ]
  },
  {
   "cell_type": "code",
   "execution_count": null,
   "metadata": {
    "collapsed": true
   },
   "outputs": [],
   "source": [
    "#3D plots\n",
    "proj = X_kl2D\n",
    "\n",
    "px = proj[:,0]\n",
    "py = proj[:,1]\n",
    "pz = proj[:,2]\n",
    "\n",
    "mean_x = px.min()\n",
    "mean_y = py.min()\n",
    "mean_z = pz.min()\n",
    "\n",
    "Xdist = px.max() - px.min()\n",
    "Xcntr = (px.max() + px.min())/2.0\n",
    "Ydist = py.max() - py.min()\n",
    "Ycntr = (py.max() + py.min())/2.0\n",
    "Zdist = pz.max() - pz.min()\n",
    "Zcntr = (pz.max() + pz.min())/2.0\n",
    "\n",
    "dist = 0.5*max(Xdist,Ydist,Zdist)\n",
    "\n",
    "fig = plt.figure(figsize = (10,10))\n",
    "ax = fig.gca(projection='3d')\n",
    "#ax.view_init(30,-60)\n",
    "\n",
    "ax.scatter(px,py,pz,c=clist,edgecolor='black',linewidth=0.2)\n",
    "\n",
    "ax.set_xlim([Xcntr - dist, Xcntr + dist])\n",
    "ax.set_ylim([Ycntr - dist, Ycntr + dist])\n",
    "ax.set_zlim([Zcntr - dist, Zcntr + dist])\n",
    "\n",
    "ax.set_xticks([])\n",
    "ax.set_yticks([])\n",
    "ax.set_zticks([])\n",
    "\n",
    "plt.show()"
   ]
  },
  {
   "cell_type": "code",
   "execution_count": null,
   "metadata": {
    "collapsed": true
   },
   "outputs": [],
   "source": [
    "saveThing(X_kl2D,'tsneKL2D.pckl')"
   ]
  },
  {
   "cell_type": "code",
   "execution_count": null,
   "metadata": {
    "collapsed": true
   },
   "outputs": [],
   "source": [
    "plt.figure(figsize=(5,5))\n",
    "plt.scatter(X_kl2D[:,0],X_kl2D[:,1],c=clist,edgecolor='black',linewidth=0.2)\n",
    "plt.axis('equal')\n",
    "plt.show()"
   ]
  },
  {
   "cell_type": "code",
   "execution_count": null,
   "metadata": {
    "collapsed": true
   },
   "outputs": [],
   "source": [
    "plotProjections(proj0,clist,gridsize=4)"
   ]
  },
  {
   "cell_type": "code",
   "execution_count": null,
   "metadata": {
    "collapsed": true
   },
   "outputs": [],
   "source": [
    "plotProjections(proj12,clist,gridsize=2)"
   ]
  },
  {
   "cell_type": "code",
   "execution_count": null,
   "metadata": {
    "collapsed": true
   },
   "outputs": [],
   "source": [
    "plotProjections(proj49,clist,gridsize=4)"
   ]
  },
  {
   "cell_type": "code",
   "execution_count": null,
   "metadata": {
    "collapsed": true
   },
   "outputs": [],
   "source": [
    "plt.scatter(proj1[:,1],proj1[:,2],c=clist)\n",
    "plt.show()"
   ]
  },
  {
   "cell_type": "code",
   "execution_count": null,
   "metadata": {
    "collapsed": true
   },
   "outputs": [],
   "source": [
    "plt.scatter(proj12[:,1],proj12[:,2],c=clist)\n",
    "plt.show()"
   ]
  },
  {
   "cell_type": "code",
   "execution_count": null,
   "metadata": {
    "collapsed": true
   },
   "outputs": [],
   "source": [
    "len(proj0)"
   ]
  },
  {
   "cell_type": "code",
   "execution_count": null,
   "metadata": {
    "collapsed": true
   },
   "outputs": [],
   "source": []
  }
 ],
 "metadata": {
  "kernelspec": {
   "display_name": "Python [Root]",
   "language": "python",
   "name": "Python [Root]"
  },
  "language_info": {
   "codemirror_mode": {
    "name": "ipython",
    "version": 3
   },
   "file_extension": ".py",
   "mimetype": "text/x-python",
   "name": "python",
   "nbconvert_exporter": "python",
   "pygments_lexer": "ipython3",
   "version": "3.5.3"
  }
 },
 "nbformat": 4,
 "nbformat_minor": 2
}
